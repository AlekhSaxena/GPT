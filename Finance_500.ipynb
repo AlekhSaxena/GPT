{
  "nbformat": 4,
  "nbformat_minor": 0,
  "metadata": {
    "colab": {
      "private_outputs": true,
      "provenance": [],
      "authorship_tag": "ABX9TyM8ENJxUohFAGO0gIx1DPOn",
      "include_colab_link": true
    },
    "kernelspec": {
      "name": "python3",
      "display_name": "Python 3"
    },
    "language_info": {
      "name": "python"
    }
  },
  "cells": [
    {
      "cell_type": "markdown",
      "metadata": {
        "id": "view-in-github",
        "colab_type": "text"
      },
      "source": [
        "<a href=\"https://colab.research.google.com/github/AlekhSaxena/GPT/blob/main/Finance_500.ipynb\" target=\"_parent\"><img src=\"https://colab.research.google.com/assets/colab-badge.svg\" alt=\"Open In Colab\"/></a>"
      ]
    },
    {
      "cell_type": "code",
      "execution_count": null,
      "metadata": {
        "id": "xYmHmiRX_Tx_"
      },
      "outputs": [],
      "source": [
        "from google.colab import drive\n",
        "drive.mount('/content/drive')"
      ]
    },
    {
      "cell_type": "code",
      "source": [
        "import os\n",
        "os.chdir('/content/drive/My Drive/')"
      ],
      "metadata": {
        "id": "ybZien3y_sz7"
      },
      "execution_count": null,
      "outputs": []
    },
    {
      "cell_type": "code",
      "source": [
        "import pandas as pd\n",
        "mc =pd.read_excel('MCAP31032023_0.xlsx')"
      ],
      "metadata": {
        "id": "8CttByzy_7Ef"
      },
      "execution_count": null,
      "outputs": []
    },
    {
      "cell_type": "code",
      "source": [
        "mc.shape\n",
        "print(mc.head())\n",
        "mc=mc.head(500)"
      ],
      "metadata": {
        "id": "sx83zj3NAPvo"
      },
      "execution_count": null,
      "outputs": []
    },
    {
      "cell_type": "code",
      "source": [
        "!pip install yfinance\n",
        "!pip install tqdm"
      ],
      "metadata": {
        "id": "BWzaemKqAVqw"
      },
      "execution_count": null,
      "outputs": []
    },
    {
      "cell_type": "code",
      "source": [
        "import yfinance as yf\n",
        "from tqdm import tqdm\n"
      ],
      "metadata": {
        "id": "uk2qbl3AAi-w"
      },
      "execution_count": null,
      "outputs": []
    },
    {
      "cell_type": "code",
      "source": [
        "x=pd.DataFrame()\n",
        "for sym in tqdm(mc.Symbol):\n",
        "    try:\n",
        "        nse=yf.download(f\"{sym}.NS\",period='1d',interval=\"5m\")\n",
        "        nse['sym']=sym\n",
        "        nse=nse.reset_index()\n",
        "        bse=yf.download(f\"{sym}.BO\",period='1d',interval=\"5m\")\n",
        "        bse['sym']=sym\n",
        "        bse=bse.reset_index()\n",
        "        final=nse.merge(bse,on=['Datetime','sym'],suffixes=('_NSE','_BSE'),how=\"inner\")\n",
        "    except Exception as e:\n",
        "        print(f\"Failed to download {sym} :{e}\")\n",
        "        continue\n",
        "    x=pd.concat([x,final])"
      ],
      "metadata": {
        "id": "L0rDcBMRAtEK"
      },
      "execution_count": null,
      "outputs": []
    },
    {
      "cell_type": "code",
      "source": [
        "x.to_csv('/content/drive/My Drive/finance_data_500.csv')"
      ],
      "metadata": {
        "id": "lAIo0-UfB85J"
      },
      "execution_count": null,
      "outputs": []
    },
    {
      "cell_type": "code",
      "source": [
        "x['diff_percentage']=(abs(x['Adj Close_NSE']-x['Adj Close_BSE']))/(x[['Adj Close_NSE','Adj Close_BSE']].min(axis=1))"
      ],
      "metadata": {
        "id": "5waTFH16CQIw"
      },
      "execution_count": null,
      "outputs": []
    },
    {
      "cell_type": "code",
      "source": [
        "x['diff_percentage'].describe()"
      ],
      "metadata": {
        "id": "V2lt2Sg9C7kp"
      },
      "execution_count": null,
      "outputs": []
    },
    {
      "cell_type": "code",
      "source": [
        "x[(x['Volume_BSE'] > 10000) & (x['Volume_NSE'] > 10000)].sort_values(by='diff_percentage',ascending=False)"
      ],
      "metadata": {
        "id": "rj3ZD6CHDAnS"
      },
      "execution_count": null,
      "outputs": []
    },
    {
      "cell_type": "code",
      "source": [
        "x[(x['Volume_BSE'] > 1000) & (x['Volume_NSE'] > 1000)].sort_values(by='diff_percentage',ascending=False)"
      ],
      "metadata": {
        "id": "6yK2JfyWDs3o"
      },
      "execution_count": null,
      "outputs": []
    },
    {
      "cell_type": "code",
      "source": [],
      "metadata": {
        "id": "2vbwfaM5FqDk"
      },
      "execution_count": null,
      "outputs": []
    }
  ]
}