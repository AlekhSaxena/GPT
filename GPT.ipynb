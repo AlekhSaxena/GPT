{
  "nbformat": 4,
  "nbformat_minor": 0,
  "metadata": {
    "colab": {
      "private_outputs": true,
      "provenance": [],
      "gpuType": "T4"
    },
    "kernelspec": {
      "name": "python3",
      "display_name": "Python 3"
    },
    "language_info": {
      "name": "python"
    },
    "accelerator": "GPU"
  },
  "cells": [
    {
      "cell_type": "code",
      "execution_count": null,
      "metadata": {
        "id": "l7l_l9-r_Hf_"
      },
      "outputs": [],
      "source": [
        "from transformers import GPT2Tokenizer,TextDataset,DataCollatorForLanguageModeling,GPT2LMHeadModel, pipeline, Trainer, TrainingArguments"
      ]
    },
    {
      "cell_type": "code",
      "source": [
        "tokenizer=GPT2Tokenizer.from_pretrained('gpt2')"
      ],
      "metadata": {
        "id": "1OcnLqaJ_o1_"
      },
      "execution_count": null,
      "outputs": []
    },
    {
      "cell_type": "code",
      "source": [
        "from google.colab import drive\n",
        "\n",
        "# This will prompt for authorization.\n",
        "drive.mount('/content/drive')\n",
        "\n",
        "# Now, you can use the file path \"/content/drive/My Drive/\" to access your Google Drive files.\n"
      ],
      "metadata": {
        "id": "VhoM-9SdnKWs"
      },
      "execution_count": null,
      "outputs": []
    },
    {
      "cell_type": "code",
      "source": [
        "!ls -ltr\n",
        "import os\n",
        "os.chdir('/content/drive/My Drive/')"
      ],
      "metadata": {
        "id": "NNg05LFVoTXC"
      },
      "execution_count": null,
      "outputs": []
    },
    {
      "cell_type": "code",
      "source": [
        "import os\n",
        "\n",
        "# List files in the root of your Google Drive\n",
        "drive_root = '/content/drive/My Drive/'\n",
        "print(os.listdir(drive_root))\n"
      ],
      "metadata": {
        "id": "i3vDEgSvoEHB"
      },
      "execution_count": null,
      "outputs": []
    },
    {
      "cell_type": "code",
      "source": [
        "pds_data=TextDataset(\n",
        "    tokenizer=tokenizer,\n",
        "    file_path='/content/drive/My Drive/PDS2.txt',\n",
        "    block_size=32\n",
        ")"
      ],
      "metadata": {
        "id": "WTU1KNca_0BM"
      },
      "execution_count": null,
      "outputs": []
    },
    {
      "cell_type": "code",
      "source": [
        "type(pds_data)"
      ],
      "metadata": {
        "id": "O1LayF4zo9Mo"
      },
      "execution_count": null,
      "outputs": []
    },
    {
      "cell_type": "code",
      "source": [
        "len(pds_data)"
      ],
      "metadata": {
        "id": "tTc6q3ybpveT"
      },
      "execution_count": null,
      "outputs": []
    },
    {
      "cell_type": "code",
      "source": [
        "pds_data[0]"
      ],
      "metadata": {
        "id": "9a-v9XKHpD9P"
      },
      "execution_count": null,
      "outputs": []
    },
    {
      "cell_type": "code",
      "source": [
        "pds_data[0].shape"
      ],
      "metadata": {
        "id": "eOjFe68jpPL9"
      },
      "execution_count": null,
      "outputs": []
    },
    {
      "cell_type": "code",
      "source": [
        "print(tokenizer.decode(pds_data[0]))"
      ],
      "metadata": {
        "id": "4wZrK8sVp4pe"
      },
      "execution_count": null,
      "outputs": []
    },
    {
      "cell_type": "code",
      "source": [
        "print(tokenizer.decode(pds_data[4695]))"
      ],
      "metadata": {
        "id": "xwVSmduhqFLB"
      },
      "execution_count": null,
      "outputs": []
    },
    {
      "cell_type": "code",
      "source": [
        "data_collator=DataCollatorForLanguageModeling(tokenizer=tokenizer,mlm=False,)"
      ],
      "metadata": {
        "id": "ixkAngEeq5YR"
      },
      "execution_count": null,
      "outputs": []
    },
    {
      "cell_type": "code",
      "source": [
        "tokenizer.pad_token = tokenizer.eos_token\n",
        "\n",
        "collator_examples=data_collator([tokenizer('I am an input'),tokenizer('So am I')])\n",
        "collator_examples"
      ],
      "metadata": {
        "id": "9f5sMUkGqNB-"
      },
      "execution_count": null,
      "outputs": []
    },
    {
      "cell_type": "code",
      "source": [
        "collator_examples.input_ids"
      ],
      "metadata": {
        "id": "zrpjNc3prYYl"
      },
      "execution_count": null,
      "outputs": []
    },
    {
      "cell_type": "code",
      "source": [
        "tokenizer.pad_token_id"
      ],
      "metadata": {
        "id": "ljZ0qwKjsLJN"
      },
      "execution_count": null,
      "outputs": []
    },
    {
      "cell_type": "code",
      "source": [
        "collator_examples.attention_mask"
      ],
      "metadata": {
        "id": "1enYgzvGsO9-"
      },
      "execution_count": null,
      "outputs": []
    },
    {
      "cell_type": "code",
      "source": [
        "collator_examples.labels"
      ],
      "metadata": {
        "id": "Eque2aZqsXu6"
      },
      "execution_count": null,
      "outputs": []
    },
    {
      "cell_type": "code",
      "source": [
        "model=GPT2LMHeadModel.from_pretrained('gpt2')"
      ],
      "metadata": {
        "id": "ItKXj9VRsbv1"
      },
      "execution_count": null,
      "outputs": []
    },
    {
      "cell_type": "code",
      "source": [
        "pretrained_generator=pipeline(\n",
        "    'text-generation',model=model, tokenizer='gpt2',\n",
        "    config={'max-length':200, 'do_sample':True,'top_p':0.9,'temperature':0.7,'top_k':10}\n",
        ")"
      ],
      "metadata": {
        "id": "gm7mB1Pfs-4z"
      },
      "execution_count": null,
      "outputs": []
    },
    {
      "cell_type": "code",
      "source": [
        "print('-------')\n",
        "for generated_seq in pretrained_generator('A dataset shows the relationships',num_return_sequences=3):\n",
        "    print(generated_seq['generated_text'])\n",
        "    print('#######')"
      ],
      "metadata": {
        "id": "x2EYhW5_tgpx"
      },
      "execution_count": null,
      "outputs": []
    },
    {
      "cell_type": "code",
      "source": [
        "len(pds_data.examples)"
      ],
      "metadata": {
        "id": "DED6NM4EwscT"
      },
      "execution_count": null,
      "outputs": []
    },
    {
      "cell_type": "code",
      "source": [
        "!pip install transformers[torch]\n",
        "!pip install accelerate -U"
      ],
      "metadata": {
        "id": "Q_zcYYZCxPbI"
      },
      "execution_count": null,
      "outputs": []
    },
    {
      "cell_type": "code",
      "source": [
        "training_args=TrainingArguments(\n",
        "    output_dir='./gpt2_pds',\n",
        "    overwrite_output_dir=True,\n",
        "    num_train_epochs=3,\n",
        "    per_device_train_batch_size=32,\n",
        "    per_device_eval_batch_size=32,\n",
        "    warmup_steps=len(pds_data.examples)//5,\n",
        "    logging_steps=50,\n",
        "    load_best_model_at_end=True,\n",
        "    evaluation_strategy='epoch',\n",
        "    save_strategy='epoch'\n",
        ")"
      ],
      "metadata": {
        "id": "Jh5d8PhkuO_V"
      },
      "execution_count": null,
      "outputs": []
    },
    {
      "cell_type": "code",
      "source": [
        "trainer=Trainer(\n",
        "    model=model,\n",
        "    args=training_args,\n",
        "    data_collator=data_collator,\n",
        "    train_dataset=pds_data.examples[:int(len(pds_data.examples)*0.8)],\n",
        "    eval_dataset=pds_data.examples[int(len(pds_data.examples)*0.8):]\n",
        ")"
      ],
      "metadata": {
        "id": "2KrvoJSpxHU5"
      },
      "execution_count": null,
      "outputs": []
    },
    {
      "cell_type": "code",
      "source": [
        "trainer.evaluate()"
      ],
      "metadata": {
        "id": "ktMiP-N-ywkK"
      },
      "execution_count": null,
      "outputs": []
    },
    {
      "cell_type": "code",
      "source": [
        "trainer.train()"
      ],
      "metadata": {
        "id": "Bb-dGYbVy-gb"
      },
      "execution_count": null,
      "outputs": []
    },
    {
      "cell_type": "code",
      "source": [
        "trainer.evaluate()"
      ],
      "metadata": {
        "id": "gldPbKodzPa_"
      },
      "execution_count": null,
      "outputs": []
    },
    {
      "cell_type": "code",
      "source": [
        "trainer.save_model()"
      ],
      "metadata": {
        "id": "T1VfrCksz6O6"
      },
      "execution_count": null,
      "outputs": []
    },
    {
      "cell_type": "code",
      "source": [
        "loaded_model=GPT2LMHeadModel.from_pretrained('./gpt2_pds')"
      ],
      "metadata": {
        "id": "uJ06rH4E0EO2"
      },
      "execution_count": null,
      "outputs": []
    },
    {
      "cell_type": "code",
      "source": [
        "finetuned_generator=pipeline('text-generation',model=loaded_model, tokenizer=tokenizer,\n",
        "                             config={'max-length':200, 'do_sample':True,'top_p':0.9,'temperature':0.7,'top_k':10})"
      ],
      "metadata": {
        "id": "ELipNssY0ZdO"
      },
      "execution_count": null,
      "outputs": []
    },
    {
      "cell_type": "code",
      "source": [
        "print('-------')\n",
        "for generated_seq in finetuned_generator('A dataset shows the relationships',num_return_sequences=3):\n",
        "    print(generated_seq['generated_text'])\n",
        "    print('#######')"
      ],
      "metadata": {
        "id": "u5iQ45ZZ03Xt"
      },
      "execution_count": null,
      "outputs": []
    },
    {
      "cell_type": "code",
      "source": [],
      "metadata": {
        "id": "rl4SZJ5f09ed"
      },
      "execution_count": null,
      "outputs": []
    }
  ]
}